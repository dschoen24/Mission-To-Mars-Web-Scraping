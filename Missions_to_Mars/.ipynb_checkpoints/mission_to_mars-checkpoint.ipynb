{
 "cells": [
  {
   "cell_type": "code",
   "execution_count": null,
   "metadata": {},
   "outputs": [],
   "source": [
    "# Import Dependancies\n",
    "import pandas as pd\n",
    "from splinter import Browser\n",
    "from bs4 import BeautifulSoup as bs\n",
    "import  requests\n",
    "import pymongo\n",
    "from webdriver_manager.chrome import ChromeDriverManager"
   ]
  },
  {
   "cell_type": "code",
   "execution_count": null,
   "metadata": {},
   "outputs": [],
   "source": [
    "# Setup Splinter\n",
    "executable_path = {'executable_path': ChromeDriverManager().install()}\n",
    "browser = Browser('chrome', **executable_path, headless=False)"
   ]
  },
  {
   "cell_type": "markdown",
   "metadata": {},
   "source": [
    "NASA MARS NEWS"
   ]
  },
  {
   "cell_type": "code",
   "execution_count": null,
   "metadata": {},
   "outputs": [],
   "source": [
    "# Get the URL for Nasa's Latest News\n",
    "url = 'https://redplanetscience.com/'\n",
    "\n",
    "# Open the URL\n",
    "browser.visit(url)"
   ]
  },
  {
   "cell_type": "code",
   "execution_count": null,
   "metadata": {},
   "outputs": [],
   "source": [
    "# Create the HTML\n",
    "html = browser.html\n",
    "\n",
    "# Create BeautifulSoup Object\n",
    "soup = bs(html, 'html.parser')"
   ]
  },
  {
   "cell_type": "code",
   "execution_count": null,
   "metadata": {},
   "outputs": [],
   "source": [
    "# Retrieve the Latest News data with Beautiful Soup\n",
    "data = soup.find(\"id\"=\"news\")"
   ]
  },
  {
   "cell_type": "code",
   "execution_count": null,
   "metadata": {},
   "outputs": [],
   "source": [
    "# Use Beautiful Soup to get the Latest News Title & Paragraph Text\n",
    "# Assign the text to Variables for later reference\n",
    "news_title = \n",
    "paragraph = "
   ]
  },
  {
   "cell_type": "code",
   "execution_count": null,
   "metadata": {},
   "outputs": [],
   "source": []
  },
  {
   "cell_type": "code",
   "execution_count": null,
   "metadata": {},
   "outputs": [],
   "source": [
    "# for x in range(1, 6):\n",
    "\n",
    "#     html = browser.html\n",
    "#     soup = BeautifulSoup(html, 'html.parser')\n",
    "\n",
    "#     quotes = soup.find_all('span', class_='text')\n",
    "\n",
    "#     for quote in quotes:\n",
    "#         print('page:', x, '-------------')\n",
    "#         print(quote.text)\n",
    "\n",
    "#     browser.links.find_by_partial_text('Next').click()"
   ]
  },
  {
   "cell_type": "markdown",
   "metadata": {},
   "source": [
    "MARS SPACE IMAGES"
   ]
  },
  {
   "cell_type": "code",
   "execution_count": null,
   "metadata": {},
   "outputs": [],
   "source": [
    "# Use Splinter to Navigate the Page\n",
    "# executable_path = {'executable_path': ChromeDriverManager().install()}\n",
    "# browser = Browser('chrome', **executable_path, headless=False)"
   ]
  },
  {
   "cell_type": "code",
   "execution_count": null,
   "metadata": {},
   "outputs": [],
   "source": [
    "# Get the URL for the Image\n",
    "# url = 'https://spaceimages-mars.com/'\n",
    "# # Use Browser to open the URL for the Image\n",
    "# browser.visit(url)"
   ]
  },
  {
   "cell_type": "code",
   "execution_count": null,
   "metadata": {},
   "outputs": [],
   "source": [
    "# Create HTML to Parse\n",
    "# # Create the HTML\n",
    "# html = browser.html\n",
    "\n",
    "# # Create BeautifulSoup Object\n",
    "# soup = bs(html, 'html.parser')\n"
   ]
  },
  {
   "cell_type": "code",
   "execution_count": null,
   "metadata": {},
   "outputs": [],
   "source": [
    "# # Use BeautifulSoup to Navigate to the Image\n",
    "# image = soup.find(\"id\"=\"news\")\n",
    "\n",
    "# # Display larger size image\n",
    "# print(image)"
   ]
  },
  {
   "cell_type": "code",
   "execution_count": null,
   "metadata": {},
   "outputs": [],
   "source": [
    "# Create the URL for the Image\n",
    "# featured_image_url = \"https://www.jpl.nasa.gov\" + image\n",
    "# print(featured_image_url)"
   ]
  },
  {
   "cell_type": "markdown",
   "metadata": {},
   "source": [
    "MARS FACTS"
   ]
  },
  {
   "cell_type": "code",
   "execution_count": null,
   "metadata": {},
   "outputs": [],
   "source": [
    "# Get the URL for Mar's Facts\n",
    "# facts_url = \n",
    "\n",
    "# # Use Pandas to Parse the URL (read to html)\n",
    "# table = pd.read_html(facts_url)\n",
    "# table"
   ]
  },
  {
   "cell_type": "code",
   "execution_count": null,
   "metadata": {},
   "outputs": [],
   "source": [
    "# Convert the Data Table into a HTML table string\n",
    "# facts_df = table[0]\n",
    "# facts_df"
   ]
  },
  {
   "cell_type": "code",
   "execution_count": null,
   "metadata": {},
   "outputs": [],
   "source": [
    "# Rename the Columns\n",
    "# facts_df.columns = \"Description\", \"Value\"\n",
    "# facts_df"
   ]
  },
  {
   "cell_type": "code",
   "execution_count": null,
   "metadata": {},
   "outputs": [],
   "source": [
    "# Reset the Index for the DataFrame\n",
    "# facts_df.set_index(\"Description\", inplace=True)\n",
    "# facts_df"
   ]
  },
  {
   "cell_type": "code",
   "execution_count": null,
   "metadata": {},
   "outputs": [],
   "source": [
    "# Convert the DataFrame into a HTML Table String\n",
    "# facts_html = facts_df.to.html()\n",
    "# print(facts_html)"
   ]
  },
  {
   "cell_type": "markdown",
   "metadata": {},
   "source": [
    "MARS HEMISPHERES"
   ]
  },
  {
   "cell_type": "code",
   "execution_count": null,
   "metadata": {},
   "outputs": [],
   "source": [
    "# Use Splinter to Navigate the Page\n",
    "# executable_path = {'executable_path': ChromeDriverManager().install()}\n",
    "# browser = Browser('chrome', **executable_path, headless=False)"
   ]
  },
  {
   "cell_type": "code",
   "execution_count": null,
   "metadata": {},
   "outputs": [],
   "source": [
    "# Get the URL for the Image\n",
    "# url = 'https://redplanetscience.com/'\n",
    "# # Use Browser to open the URL for the Image\n",
    "# browser.visit(url)"
   ]
  },
  {
   "cell_type": "code",
   "execution_count": null,
   "metadata": {},
   "outputs": [],
   "source": [
    "# Create HTML to Parse\n",
    "# # Create the HTML\n",
    "# html = browser.html\n",
    "\n",
    "# # Create BeautifulSoup Object\n",
    "# soup = bs(html, 'html.parser')"
   ]
  },
  {
   "cell_type": "code",
   "execution_count": null,
   "metadata": {},
   "outputs": [],
   "source": [
    "# Retrieve the Latest News data with Beautiful Soup\n",
    "# data = soup.find_all(\"div\", class_=\"item\")\n",
    "# print(data)"
   ]
  },
  {
   "cell_type": "code",
   "execution_count": null,
   "metadata": {},
   "outputs": [],
   "source": [
    "# Navigate the page to obtain high res Images for each Mar's Hemispheres (Image & Title)\n",
    "# data = soup.find_all(\"div\", class_=\"item\")\n",
    "\n",
    "# hemisphere_img_urls = []\n",
    "\n",
    "# # Loop through the image data to find title & url info\n",
    "# for d in data:\n",
    "    \n",
    "#     title = d.find(\"h3\").text\n",
    "    \n",
    "#     img_url = d.a[\"href\"]\n",
    "    \n",
    "#     url = \"https://astrogeology.usgs.gov\" + img_url\n",
    "    \n",
    "#     # Use requests to get Full Image URL\n",
    "#     response = requests.get(url)\n",
    "    \n",
    "#     # Create Soup Object\n",
    "#     soup = bs(response.text, \"html.parser\")\n",
    "    \n",
    "#     # Find Full Image URL\n",
    "#     new_url = soup.find(\"img\", class_=\"wide-image\")[\"src\"]\n",
    "    \n",
    "#     # Create Full Image URK\n",
    "#     full_url = \"https://astrogeology.usgs.gov\" + new_url\n",
    "    \n",
    "#     # Create a Dictionary & Append to a List (One Dict for each hemishpere)\n",
    "#     hemisphere_img_urls.append({\"title\": title, \"img_url\": full_url})\n",
    "    \n",
    "# hemisphere_img_urls"
   ]
  },
  {
   "cell_type": "code",
   "execution_count": null,
   "metadata": {},
   "outputs": [],
   "source": []
  },
  {
   "cell_type": "code",
   "execution_count": null,
   "metadata": {},
   "outputs": [],
   "source": []
  },
  {
   "cell_type": "code",
   "execution_count": null,
   "metadata": {},
   "outputs": [],
   "source": []
  }
 ],
 "metadata": {
  "kernelspec": {
   "display_name": "Python 3",
   "language": "python",
   "name": "python3"
  },
  "language_info": {
   "codemirror_mode": {
    "name": "ipython",
    "version": 3
   },
   "file_extension": ".py",
   "mimetype": "text/x-python",
   "name": "python",
   "nbconvert_exporter": "python",
   "pygments_lexer": "ipython3",
   "version": "3.8.5"
  }
 },
 "nbformat": 4,
 "nbformat_minor": 4
}
