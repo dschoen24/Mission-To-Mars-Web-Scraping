{
 "cells": [
  {
   "cell_type": "code",
   "execution_count": 2,
   "metadata": {},
   "outputs": [],
   "source": [
    "# Import Dependancies\n",
    "import pandas as pd\n",
    "from splinter import Browser\n",
    "from bs4 import BeautifulSoup as bs\n",
    "import  requests\n",
    "import pymongo\n",
    "from webdriver_manager.chrome import ChromeDriverManager"
   ]
  },
  {
   "cell_type": "code",
   "execution_count": 2,
   "metadata": {},
   "outputs": [
    {
     "name": "stderr",
     "output_type": "stream",
     "text": [
      "\n",
      "\n",
      "====== WebDriver manager ======\n",
      "Current google-chrome version is 92.0.4515\n",
      "Get LATEST driver version for 92.0.4515\n",
      "Driver [C:\\Users\\User\\.wdm\\drivers\\chromedriver\\win32\\92.0.4515.107\\chromedriver.exe] found in cache\n"
     ]
    }
   ],
   "source": [
    "# Setup Splinter\n",
    "executable_path = {'executable_path': ChromeDriverManager().install()}\n",
    "browser = Browser('chrome', **executable_path, headless=False)"
   ]
  },
  {
   "cell_type": "markdown",
   "metadata": {},
   "source": [
    "NASA MARS NEWS"
   ]
  },
  {
   "cell_type": "code",
   "execution_count": 3,
   "metadata": {},
   "outputs": [],
   "source": [
    "# Get the URL for Nasa's Latest News\n",
    "url = 'https://redplanetscience.com/'\n",
    "\n",
    "# Open the URL\n",
    "browser.visit(url)"
   ]
  },
  {
   "cell_type": "code",
   "execution_count": 4,
   "metadata": {},
   "outputs": [],
   "source": [
    "# Create the HTML\n",
    "html = browser.html\n",
    "\n",
    "# Create BeautifulSoup Object\n",
    "soup = bs(html, 'html.parser')"
   ]
  },
  {
   "cell_type": "code",
   "execution_count": 5,
   "metadata": {
    "collapsed": true,
    "jupyter": {
     "outputs_hidden": true
    }
   },
   "outputs": [
    {
     "name": "stdout",
     "output_type": "stream",
     "text": [
      "<div class=\"container\" id=\"news\">\n",
      "<div class=\"col-md-12\">\n",
      "<hr/>\n",
      "<div class=\"row\">\n",
      "<div class=\"col-md-4\">\n",
      "<div class=\"list_image\">\n",
      "<img src=\"https://mars.nasa.gov/system/news_items/list_view_images/8506_mars-solar-conjunction-th.jpg\"/>\n",
      "</div>\n",
      "</div>\n",
      "<div class=\"col-md-8\">\n",
      "<div class=\"list_text\">\n",
      "<div class=\"list_date\">August 9, 2021</div>\n",
      "<div class=\"content_title\">What's Mars Solar Conjunction, and Why Does It Matter?</div>\n",
      "<div class=\"article_teaser_body\">NASA spacecraft at Mars are going to be on their own for a few weeks when the Sun comes between Mars and Earth, interrupting communications.</div>\n",
      "</div>\n",
      "</div>\n",
      "</div>\n",
      "</div>\n",
      "<div class=\"col-md-12\">\n",
      "<hr/>\n",
      "<div class=\"row\">\n",
      "<div class=\"col-md-4\">\n",
      "<div class=\"list_image\">\n",
      "<img src=\"https://mars.nasa.gov/system/news_items/list_view_images/8705_PIA23896-226.jpg\"/>\n",
      "</div>\n",
      "</div>\n",
      "<div class=\"col-md-8\">\n",
      "<div class=\"list_text\">\n",
      "<div class=\"list_date\">August 8, 2021</div>\n",
      "<div class=\"content_title\">NASA's InSight Flexes Its Arm While Its 'Mole' Hits Pause</div>\n",
      "<div class=\"article_teaser_body\">Now that the lander's robotic arm has helped the mole get underground, it will resume science activities that have been on hold.</div>\n",
      "</div>\n",
      "</div>\n",
      "</div>\n",
      "</div>\n",
      "<div class=\"col-md-12\">\n",
      "<hr/>\n",
      "<div class=\"row\">\n",
      "<div class=\"col-md-4\">\n",
      "<div class=\"list_image\">\n",
      "<img src=\"https://mars.nasa.gov/system/news_items/list_view_images/8680_mavenmarselectriccurrents-320x240.jpg\"/>\n",
      "</div>\n",
      "</div>\n",
      "<div class=\"col-md-8\">\n",
      "<div class=\"list_text\">\n",
      "<div class=\"list_date\">August 6, 2021</div>\n",
      "<div class=\"content_title\">MAVEN Maps Electric Currents around Mars that are Fundamental to Atmospheric Loss</div>\n",
      "<div class=\"article_teaser_body\">Five years after NASA’s MAVEN spacecraft entered into orbit around Mars, data from the mission has led to the creation of a map of electric current systems in the Martian atmosphere.</div>\n",
      "</div>\n",
      "</div>\n",
      "</div>\n",
      "</div>\n",
      "<div class=\"col-md-12\">\n",
      "<hr/>\n",
      "<div class=\"row\">\n",
      "<div class=\"col-md-4\">\n",
      "<div class=\"list_image\">\n",
      "<img src=\"https://mars.nasa.gov/system/news_items/list_view_images/8606_list_image.jpg\"/>\n",
      "</div>\n",
      "</div>\n",
      "<div class=\"col-md-8\">\n",
      "<div class=\"list_text\">\n",
      "<div class=\"list_date\">July 28, 2021</div>\n",
      "<div class=\"content_title\">NASA Prepares for Moon and Mars With New Addition to Its Deep Space Network</div>\n",
      "<div class=\"article_teaser_body\">Robotic spacecraft will be able to communicate with the dish using radio waves and lasers.</div>\n",
      "</div>\n",
      "</div>\n",
      "</div>\n",
      "</div>\n",
      "<div class=\"col-md-12\">\n",
      "<hr/>\n",
      "<div class=\"row\">\n",
      "<div class=\"col-md-4\">\n",
      "<div class=\"list_image\">\n",
      "<img src=\"https://mars.nasa.gov/system/news_items/list_view_images/8595_mars_winds_preview_4-320x240.jpg\"/>\n",
      "</div>\n",
      "</div>\n",
      "<div class=\"col-md-8\">\n",
      "<div class=\"list_text\">\n",
      "<div class=\"list_date\">July 26, 2021</div>\n",
      "<div class=\"content_title\">NASA's MAVEN Maps Winds in the Martian Upper Atmosphere that Mirror the Terrain Below and Gives Clues to Martian Climate</div>\n",
      "<div class=\"article_teaser_body\">Researchers have created the first map of wind circulation in the upper atmosphere of a planet besides Earth, using data from NASA’s MAVEN spacecraft that were collected during the last two years.</div>\n",
      "</div>\n",
      "</div>\n",
      "</div>\n",
      "</div>\n",
      "<div class=\"col-md-12\">\n",
      "<hr/>\n",
      "<div class=\"row\">\n",
      "<div class=\"col-md-4\">\n",
      "<div class=\"list_image\">\n",
      "<img src=\"https://mars.nasa.gov/system/news_items/list_view_images/8707_PIA23764-320.jpg\"/>\n",
      "</div>\n",
      "</div>\n",
      "<div class=\"col-md-8\">\n",
      "<div class=\"list_text\">\n",
      "<div class=\"list_date\">July 24, 2021</div>\n",
      "<div class=\"content_title\">7 Things to Know About the Mars 2020 Perseverance Rover Mission</div>\n",
      "<div class=\"article_teaser_body\">NASA's next rover to the Red Planet is slated to launch no earlier than July 30. These highlights will get you up to speed on the ambitious mission.</div>\n",
      "</div>\n",
      "</div>\n",
      "</div>\n",
      "</div>\n",
      "<div class=\"col-md-12\">\n",
      "<hr/>\n",
      "<div class=\"row\">\n",
      "<div class=\"col-md-4\">\n",
      "<div class=\"list_image\">\n",
      "<img src=\"https://mars.nasa.gov/system/news_items/list_view_images/8408_22206_PIA22655-th.gif\"/>\n",
      "</div>\n",
      "</div>\n",
      "<div class=\"col-md-8\">\n",
      "<div class=\"list_text\">\n",
      "<div class=\"list_date\">July 23, 2021</div>\n",
      "<div class=\"content_title\">The MarCO Mission Comes to an End</div>\n",
      "<div class=\"article_teaser_body\">The pair of briefcase-sized satellites made history when they sailed past Mars in 2019.</div>\n",
      "</div>\n",
      "</div>\n",
      "</div>\n",
      "</div>\n",
      "<div class=\"col-md-12\">\n",
      "<hr/>\n",
      "<div class=\"row\">\n",
      "<div class=\"col-md-4\">\n",
      "<div class=\"list_image\">\n",
      "<img src=\"https://mars.nasa.gov/system/news_items/list_view_images/8691_rover-overlay-226.jpg\"/>\n",
      "</div>\n",
      "</div>\n",
      "<div class=\"col-md-8\">\n",
      "<div class=\"list_text\">\n",
      "<div class=\"list_date\">July 22, 2021</div>\n",
      "<div class=\"content_title\">While Stargazing on Mars, NASA's Curiosity Rover Spots Earth and Venus</div>\n",
      "<div class=\"article_teaser_body\">This new portrait of the Red Planet's neighbors was taken during a time when there's more dust in the air on Mars.</div>\n",
      "</div>\n",
      "</div>\n",
      "</div>\n",
      "</div>\n",
      "<div class=\"col-md-12\">\n",
      "<hr/>\n",
      "<div class=\"row\">\n",
      "<div class=\"col-md-4\">\n",
      "<div class=\"list_image\">\n",
      "<img src=\"https://mars.nasa.gov/system/news_items/list_view_images/8529_PIA23512-226.gif\"/>\n",
      "</div>\n",
      "</div>\n",
      "<div class=\"col-md-8\">\n",
      "<div class=\"list_text\">\n",
      "<div class=\"list_date\">July 22, 2021</div>\n",
      "<div class=\"content_title\">InSight's 'Mole' Team Peers into the Pit</div>\n",
      "<div class=\"article_teaser_body\">Efforts to save the heat probe continue.</div>\n",
      "</div>\n",
      "</div>\n",
      "</div>\n",
      "</div>\n",
      "<div class=\"col-md-12\">\n",
      "<hr/>\n",
      "<div class=\"row\">\n",
      "<div class=\"col-md-4\">\n",
      "<div class=\"list_image\">\n",
      "<img src=\"https://mars.nasa.gov/system/news_items/list_view_images/8510_emmy20190916-32x24.jpg\"/>\n",
      "</div>\n",
      "</div>\n",
      "<div class=\"col-md-8\">\n",
      "<div class=\"list_text\">\n",
      "<div class=\"list_date\">July 19, 2021</div>\n",
      "<div class=\"content_title\">NASA Wins Two Emmy Awards for Interactive Mission Coverage</div>\n",
      "<div class=\"article_teaser_body\">NASA-JPL's coverage of the Mars InSight landing earns one of the two wins, making this the NASA center's second Emmy.</div>\n",
      "</div>\n",
      "</div>\n",
      "</div>\n",
      "</div>\n",
      "<div class=\"col-md-12\">\n",
      "<hr/>\n",
      "<div class=\"row\">\n",
      "<div class=\"col-md-4\">\n",
      "<div class=\"list_image\">\n",
      "<img src=\"https://mars.nasa.gov/system/news_items/list_view_images/8551_PIA23551-320x240.jpg\"/>\n",
      "</div>\n",
      "</div>\n",
      "<div class=\"col-md-8\">\n",
      "<div class=\"list_text\">\n",
      "<div class=\"list_date\">July 18, 2021</div>\n",
      "<div class=\"content_title\">Mars Scientists Investigate Ancient Life in Australia</div>\n",
      "<div class=\"article_teaser_body\">Teams with NASA's Mars 2020 and ESA's ExoMars practiced hunting for fossilized microbial life in the Australian Outback in preparation for their Red Planet missions. </div>\n",
      "</div>\n",
      "</div>\n",
      "</div>\n",
      "</div>\n",
      "<div class=\"col-md-12\">\n",
      "<hr/>\n",
      "<div class=\"row\">\n",
      "<div class=\"col-md-4\">\n",
      "<div class=\"list_image\">\n",
      "<img src=\"https://mars.nasa.gov/system/news_items/list_view_images/8518_PIA23373-320x240.gif\"/>\n",
      "</div>\n",
      "</div>\n",
      "<div class=\"col-md-8\">\n",
      "<div class=\"list_text\">\n",
      "<div class=\"list_date\">July 17, 2021</div>\n",
      "<div class=\"content_title\">NASA's Push to Save the Mars InSight Lander's Heat Probe</div>\n",
      "<div class=\"article_teaser_body\">The scoop on the end of the spacecraft's robotic arm will be used to 'pin' the mole against the wall of its hole.</div>\n",
      "</div>\n",
      "</div>\n",
      "</div>\n",
      "</div>\n",
      "<div class=\"col-md-12\">\n",
      "<hr/>\n",
      "<div class=\"row\">\n",
      "<div class=\"col-md-4\">\n",
      "<div class=\"list_image\">\n",
      "<img src=\"https://mars.nasa.gov/system/news_items/list_view_images/8503_PIA23319-MAIN-226.jpg\"/>\n",
      "</div>\n",
      "</div>\n",
      "<div class=\"col-md-8\">\n",
      "<div class=\"list_text\">\n",
      "<div class=\"list_date\">July 14, 2021</div>\n",
      "<div class=\"content_title\">Robotic Toolkit Added to NASA's Mars 2020 Rover</div>\n",
      "<div class=\"article_teaser_body\">The bit carousel, which lies at the heart of the rover's Sample Caching System, is now aboard NASA's newest rover. </div>\n",
      "</div>\n",
      "</div>\n",
      "</div>\n",
      "</div>\n",
      "<div class=\"col-md-12\">\n",
      "<hr/>\n",
      "<div class=\"row\">\n",
      "<div class=\"col-md-4\">\n",
      "<div class=\"list_image\">\n",
      "<img src=\"https://mars.nasa.gov/system/news_items/list_view_images/8531_PIA23467-320x240.gif\"/>\n",
      "</div>\n",
      "</div>\n",
      "<div class=\"col-md-8\">\n",
      "<div class=\"list_text\">\n",
      "<div class=\"list_date\">July 12, 2021</div>\n",
      "<div class=\"content_title\">Mars 2020 Unwrapped and Ready for More Testing</div>\n",
      "<div class=\"article_teaser_body\">In time-lapse video, bunny-suited engineers remove the inner layer of protective foil on NASA's Mars 2020 rover after it was relocated for testing.</div>\n",
      "</div>\n",
      "</div>\n",
      "</div>\n",
      "</div>\n",
      "<div class=\"col-md-12\">\n",
      "<hr/>\n",
      "<div class=\"row\">\n",
      "<div class=\"col-md-4\">\n",
      "<div class=\"list_image\">\n",
      "<img src=\"https://mars.nasa.gov/system/news_items/list_view_images/8822_1-PIA24304-CatScanMars-320x240.gif\"/>\n",
      "</div>\n",
      "</div>\n",
      "<div class=\"col-md-8\">\n",
      "<div class=\"list_text\">\n",
      "<div class=\"list_date\">July 8, 2021</div>\n",
      "<div class=\"content_title\">A Martian Roundtrip: NASA's Perseverance Rover Sample Tubes</div>\n",
      "<div class=\"article_teaser_body\">Marvels of engineering, the rover's sample tubes must be tough enough to safely bring Red Planet samples on the long journey back to Earth in immaculate condition. </div>\n",
      "</div>\n",
      "</div>\n",
      "</div>\n",
      "</div>\n",
      "</div>\n"
     ]
    }
   ],
   "source": [
    "# Retrieve the Latest News data with Beautiful Soup\n",
    "data = soup.find(\"div\", id=\"news\", class_=\"container\")\n",
    "print(data)"
   ]
  },
  {
   "cell_type": "code",
   "execution_count": 6,
   "metadata": {},
   "outputs": [
    {
     "name": "stdout",
     "output_type": "stream",
     "text": [
      "What's Mars Solar Conjunction, and Why Does It Matter?\n",
      "--------------------------------\n",
      "NASA spacecraft at Mars are going to be on their own for a few weeks when the Sun comes between Mars and Earth, interrupting communications.\n"
     ]
    }
   ],
   "source": [
    "# Use Beautiful Soup to get the Latest News Title & Paragraph Text\n",
    "# Assign the text to Variables for later reference\n",
    "news_title = data.find(\"div\", class_=\"content_title\").get_text()\n",
    "paragraph = data.find(\"div\", class_=\"article_teaser_body\").get_text()\n",
    "\n",
    "print(news_title)\n",
    "print(\"--------------------------------\")\n",
    "print(paragraph)"
   ]
  },
  {
   "cell_type": "code",
   "execution_count": 7,
   "metadata": {},
   "outputs": [],
   "source": [
    "browser.quit()"
   ]
  },
  {
   "cell_type": "markdown",
   "metadata": {},
   "source": [
    "MARS SPACE IMAGES"
   ]
  },
  {
   "cell_type": "code",
   "execution_count": 8,
   "metadata": {},
   "outputs": [
    {
     "name": "stderr",
     "output_type": "stream",
     "text": [
      "\n",
      "\n",
      "====== WebDriver manager ======\n",
      "Current google-chrome version is 92.0.4515\n",
      "Get LATEST driver version for 92.0.4515\n",
      "Driver [C:\\Users\\User\\.wdm\\drivers\\chromedriver\\win32\\92.0.4515.107\\chromedriver.exe] found in cache\n"
     ]
    }
   ],
   "source": [
    "# Use Splinter to Navigate the Page\n",
    "executable_path = {'executable_path': ChromeDriverManager().install()}\n",
    "browser = Browser('chrome', **executable_path, headless=False)"
   ]
  },
  {
   "cell_type": "code",
   "execution_count": 10,
   "metadata": {},
   "outputs": [],
   "source": [
    "# Get the URL for the Image\n",
    "featured_image_url = 'https://spaceimages-mars.com/image/featured/mars1.jpg'\n",
    "# # Use Browser to open the URL for the Image\n",
    "browser.visit(featured_image_url)"
   ]
  },
  {
   "cell_type": "code",
   "execution_count": 26,
   "metadata": {},
   "outputs": [],
   "source": [
    "# # Create HTML to Parse\n",
    "# html = browser.html\n",
    "\n",
    "# # Create BeautifulSoup Object\n",
    "# soup = bs(html, 'html.parser')"
   ]
  },
  {
   "cell_type": "code",
   "execution_count": 23,
   "metadata": {},
   "outputs": [],
   "source": [
    "# # Use BeautifulSoup to Navigate to the Image\n",
    "# image = soup.find(\"img\", class_=\"style\" \"src\" \"width\" \"height\")\n",
    "# # Display larger size image\n",
    "# image"
   ]
  },
  {
   "cell_type": "code",
   "execution_count": 29,
   "metadata": {},
   "outputs": [],
   "source": [
    "# Create the URL for the Image\n",
    "# featured_image_url = \"image_url\" + image\n",
    "# print(featured_image_url)"
   ]
  },
  {
   "cell_type": "code",
   "execution_count": 11,
   "metadata": {},
   "outputs": [],
   "source": [
    "browser.quit()"
   ]
  },
  {
   "cell_type": "markdown",
   "metadata": {},
   "source": [
    "MARS FACTS"
   ]
  },
  {
   "cell_type": "code",
   "execution_count": 3,
   "metadata": {},
   "outputs": [
    {
     "data": {
      "text/plain": [
       "[                         0                1                2\n",
       " 0  Mars - Earth Comparison             Mars            Earth\n",
       " 1                Diameter:         6,779 km        12,742 km\n",
       " 2                    Mass:  6.39 × 10^23 kg  5.97 × 10^24 kg\n",
       " 3                   Moons:                2                1\n",
       " 4       Distance from Sun:   227,943,824 km   149,598,262 km\n",
       " 5          Length of Year:   687 Earth days      365.24 days\n",
       " 6             Temperature:     -87 to -5 °C      -88 to 58°C,\n",
       "                       0                              1\n",
       " 0  Equatorial Diameter:                       6,792 km\n",
       " 1       Polar Diameter:                       6,752 km\n",
       " 2                 Mass:  6.39 × 10^23 kg (0.11 Earths)\n",
       " 3                Moons:          2 ( Phobos & Deimos )\n",
       " 4       Orbit Distance:       227,943,824 km (1.38 AU)\n",
       " 5         Orbit Period:           687 days (1.9 years)\n",
       " 6  Surface Temperature:                   -87 to -5 °C\n",
       " 7         First Record:              2nd millennium BC\n",
       " 8          Recorded By:           Egyptian astronomers]"
      ]
     },
     "execution_count": 3,
     "metadata": {},
     "output_type": "execute_result"
    }
   ],
   "source": [
    "# Get the URL for Mar's Facts\n",
    "facts_url = 'https://galaxyfacts-mars.com/'\n",
    "\n",
    "# # Use Pandas to Parse the URL (read to html)\n",
    "table = pd.read_html(facts_url)\n",
    "table"
   ]
  },
  {
   "cell_type": "code",
   "execution_count": 4,
   "metadata": {},
   "outputs": [
    {
     "data": {
      "text/html": [
       "<div>\n",
       "<style scoped>\n",
       "    .dataframe tbody tr th:only-of-type {\n",
       "        vertical-align: middle;\n",
       "    }\n",
       "\n",
       "    .dataframe tbody tr th {\n",
       "        vertical-align: top;\n",
       "    }\n",
       "\n",
       "    .dataframe thead th {\n",
       "        text-align: right;\n",
       "    }\n",
       "</style>\n",
       "<table border=\"1\" class=\"dataframe\">\n",
       "  <thead>\n",
       "    <tr style=\"text-align: right;\">\n",
       "      <th></th>\n",
       "      <th>0</th>\n",
       "      <th>1</th>\n",
       "      <th>2</th>\n",
       "    </tr>\n",
       "  </thead>\n",
       "  <tbody>\n",
       "    <tr>\n",
       "      <th>0</th>\n",
       "      <td>Mars - Earth Comparison</td>\n",
       "      <td>Mars</td>\n",
       "      <td>Earth</td>\n",
       "    </tr>\n",
       "    <tr>\n",
       "      <th>1</th>\n",
       "      <td>Diameter:</td>\n",
       "      <td>6,779 km</td>\n",
       "      <td>12,742 km</td>\n",
       "    </tr>\n",
       "    <tr>\n",
       "      <th>2</th>\n",
       "      <td>Mass:</td>\n",
       "      <td>6.39 × 10^23 kg</td>\n",
       "      <td>5.97 × 10^24 kg</td>\n",
       "    </tr>\n",
       "    <tr>\n",
       "      <th>3</th>\n",
       "      <td>Moons:</td>\n",
       "      <td>2</td>\n",
       "      <td>1</td>\n",
       "    </tr>\n",
       "    <tr>\n",
       "      <th>4</th>\n",
       "      <td>Distance from Sun:</td>\n",
       "      <td>227,943,824 km</td>\n",
       "      <td>149,598,262 km</td>\n",
       "    </tr>\n",
       "    <tr>\n",
       "      <th>5</th>\n",
       "      <td>Length of Year:</td>\n",
       "      <td>687 Earth days</td>\n",
       "      <td>365.24 days</td>\n",
       "    </tr>\n",
       "    <tr>\n",
       "      <th>6</th>\n",
       "      <td>Temperature:</td>\n",
       "      <td>-87 to -5 °C</td>\n",
       "      <td>-88 to 58°C</td>\n",
       "    </tr>\n",
       "  </tbody>\n",
       "</table>\n",
       "</div>"
      ],
      "text/plain": [
       "                         0                1                2\n",
       "0  Mars - Earth Comparison             Mars            Earth\n",
       "1                Diameter:         6,779 km        12,742 km\n",
       "2                    Mass:  6.39 × 10^23 kg  5.97 × 10^24 kg\n",
       "3                   Moons:                2                1\n",
       "4       Distance from Sun:   227,943,824 km   149,598,262 km\n",
       "5          Length of Year:   687 Earth days      365.24 days\n",
       "6             Temperature:     -87 to -5 °C      -88 to 58°C"
      ]
     },
     "execution_count": 4,
     "metadata": {},
     "output_type": "execute_result"
    }
   ],
   "source": [
    "# Convert the Data Table into a HTML table string\n",
    "facts_df = table[0]\n",
    "facts_df"
   ]
  },
  {
   "cell_type": "code",
   "execution_count": 5,
   "metadata": {},
   "outputs": [
    {
     "data": {
      "text/html": [
       "<div>\n",
       "<style scoped>\n",
       "    .dataframe tbody tr th:only-of-type {\n",
       "        vertical-align: middle;\n",
       "    }\n",
       "\n",
       "    .dataframe tbody tr th {\n",
       "        vertical-align: top;\n",
       "    }\n",
       "\n",
       "    .dataframe thead th {\n",
       "        text-align: right;\n",
       "    }\n",
       "</style>\n",
       "<table border=\"1\" class=\"dataframe\">\n",
       "  <thead>\n",
       "    <tr style=\"text-align: right;\">\n",
       "      <th></th>\n",
       "      <th>Description</th>\n",
       "      <th>Values</th>\n",
       "      <th>Earth</th>\n",
       "    </tr>\n",
       "  </thead>\n",
       "  <tbody>\n",
       "    <tr>\n",
       "      <th>0</th>\n",
       "      <td>Mars - Earth Comparison</td>\n",
       "      <td>Mars</td>\n",
       "      <td>Earth</td>\n",
       "    </tr>\n",
       "    <tr>\n",
       "      <th>1</th>\n",
       "      <td>Diameter:</td>\n",
       "      <td>6,779 km</td>\n",
       "      <td>12,742 km</td>\n",
       "    </tr>\n",
       "    <tr>\n",
       "      <th>2</th>\n",
       "      <td>Mass:</td>\n",
       "      <td>6.39 × 10^23 kg</td>\n",
       "      <td>5.97 × 10^24 kg</td>\n",
       "    </tr>\n",
       "    <tr>\n",
       "      <th>3</th>\n",
       "      <td>Moons:</td>\n",
       "      <td>2</td>\n",
       "      <td>1</td>\n",
       "    </tr>\n",
       "    <tr>\n",
       "      <th>4</th>\n",
       "      <td>Distance from Sun:</td>\n",
       "      <td>227,943,824 km</td>\n",
       "      <td>149,598,262 km</td>\n",
       "    </tr>\n",
       "    <tr>\n",
       "      <th>5</th>\n",
       "      <td>Length of Year:</td>\n",
       "      <td>687 Earth days</td>\n",
       "      <td>365.24 days</td>\n",
       "    </tr>\n",
       "    <tr>\n",
       "      <th>6</th>\n",
       "      <td>Temperature:</td>\n",
       "      <td>-87 to -5 °C</td>\n",
       "      <td>-88 to 58°C</td>\n",
       "    </tr>\n",
       "  </tbody>\n",
       "</table>\n",
       "</div>"
      ],
      "text/plain": [
       "               Description           Values            Earth\n",
       "0  Mars - Earth Comparison             Mars            Earth\n",
       "1                Diameter:         6,779 km        12,742 km\n",
       "2                    Mass:  6.39 × 10^23 kg  5.97 × 10^24 kg\n",
       "3                   Moons:                2                1\n",
       "4       Distance from Sun:   227,943,824 km   149,598,262 km\n",
       "5          Length of Year:   687 Earth days      365.24 days\n",
       "6             Temperature:     -87 to -5 °C      -88 to 58°C"
      ]
     },
     "execution_count": 5,
     "metadata": {},
     "output_type": "execute_result"
    }
   ],
   "source": [
    "# Rename the Columns\n",
    "facts_df.columns = \"Description\", \"Values\", \"Earth\"\n",
    "facts_df"
   ]
  },
  {
   "cell_type": "code",
   "execution_count": 8,
   "metadata": {},
   "outputs": [
    {
     "data": {
      "text/html": [
       "<div>\n",
       "<style scoped>\n",
       "    .dataframe tbody tr th:only-of-type {\n",
       "        vertical-align: middle;\n",
       "    }\n",
       "\n",
       "    .dataframe tbody tr th {\n",
       "        vertical-align: top;\n",
       "    }\n",
       "\n",
       "    .dataframe thead th {\n",
       "        text-align: right;\n",
       "    }\n",
       "</style>\n",
       "<table border=\"1\" class=\"dataframe\">\n",
       "  <thead>\n",
       "    <tr style=\"text-align: right;\">\n",
       "      <th></th>\n",
       "      <th>Description</th>\n",
       "      <th>Values</th>\n",
       "    </tr>\n",
       "  </thead>\n",
       "  <tbody>\n",
       "    <tr>\n",
       "      <th>0</th>\n",
       "      <td>Mars - Earth Comparison</td>\n",
       "      <td>Mars</td>\n",
       "    </tr>\n",
       "    <tr>\n",
       "      <th>1</th>\n",
       "      <td>Diameter:</td>\n",
       "      <td>6,779 km</td>\n",
       "    </tr>\n",
       "    <tr>\n",
       "      <th>2</th>\n",
       "      <td>Mass:</td>\n",
       "      <td>6.39 × 10^23 kg</td>\n",
       "    </tr>\n",
       "    <tr>\n",
       "      <th>3</th>\n",
       "      <td>Moons:</td>\n",
       "      <td>2</td>\n",
       "    </tr>\n",
       "    <tr>\n",
       "      <th>4</th>\n",
       "      <td>Distance from Sun:</td>\n",
       "      <td>227,943,824 km</td>\n",
       "    </tr>\n",
       "    <tr>\n",
       "      <th>5</th>\n",
       "      <td>Length of Year:</td>\n",
       "      <td>687 Earth days</td>\n",
       "    </tr>\n",
       "    <tr>\n",
       "      <th>6</th>\n",
       "      <td>Temperature:</td>\n",
       "      <td>-87 to -5 °C</td>\n",
       "    </tr>\n",
       "  </tbody>\n",
       "</table>\n",
       "</div>"
      ],
      "text/plain": [
       "               Description           Values\n",
       "0  Mars - Earth Comparison             Mars\n",
       "1                Diameter:         6,779 km\n",
       "2                    Mass:  6.39 × 10^23 kg\n",
       "3                   Moons:                2\n",
       "4       Distance from Sun:   227,943,824 km\n",
       "5          Length of Year:   687 Earth days\n",
       "6             Temperature:     -87 to -5 °C"
      ]
     },
     "execution_count": 8,
     "metadata": {},
     "output_type": "execute_result"
    }
   ],
   "source": [
    "# Drop the Earth Column\n",
    "facts_df = facts_df.drop(columns = [\"Earth\"])\n",
    "facts_df"
   ]
  },
  {
   "cell_type": "code",
   "execution_count": 9,
   "metadata": {},
   "outputs": [
    {
     "data": {
      "text/html": [
       "<div>\n",
       "<style scoped>\n",
       "    .dataframe tbody tr th:only-of-type {\n",
       "        vertical-align: middle;\n",
       "    }\n",
       "\n",
       "    .dataframe tbody tr th {\n",
       "        vertical-align: top;\n",
       "    }\n",
       "\n",
       "    .dataframe thead th {\n",
       "        text-align: right;\n",
       "    }\n",
       "</style>\n",
       "<table border=\"1\" class=\"dataframe\">\n",
       "  <thead>\n",
       "    <tr style=\"text-align: right;\">\n",
       "      <th></th>\n",
       "      <th>Description</th>\n",
       "      <th>Values</th>\n",
       "    </tr>\n",
       "  </thead>\n",
       "  <tbody>\n",
       "    <tr>\n",
       "      <th>1</th>\n",
       "      <td>Diameter:</td>\n",
       "      <td>6,779 km</td>\n",
       "    </tr>\n",
       "    <tr>\n",
       "      <th>2</th>\n",
       "      <td>Mass:</td>\n",
       "      <td>6.39 × 10^23 kg</td>\n",
       "    </tr>\n",
       "    <tr>\n",
       "      <th>3</th>\n",
       "      <td>Moons:</td>\n",
       "      <td>2</td>\n",
       "    </tr>\n",
       "    <tr>\n",
       "      <th>4</th>\n",
       "      <td>Distance from Sun:</td>\n",
       "      <td>227,943,824 km</td>\n",
       "    </tr>\n",
       "    <tr>\n",
       "      <th>5</th>\n",
       "      <td>Length of Year:</td>\n",
       "      <td>687 Earth days</td>\n",
       "    </tr>\n",
       "    <tr>\n",
       "      <th>6</th>\n",
       "      <td>Temperature:</td>\n",
       "      <td>-87 to -5 °C</td>\n",
       "    </tr>\n",
       "  </tbody>\n",
       "</table>\n",
       "</div>"
      ],
      "text/plain": [
       "          Description           Values\n",
       "1           Diameter:         6,779 km\n",
       "2               Mass:  6.39 × 10^23 kg\n",
       "3              Moons:                2\n",
       "4  Distance from Sun:   227,943,824 km\n",
       "5     Length of Year:   687 Earth days\n",
       "6        Temperature:     -87 to -5 °C"
      ]
     },
     "execution_count": 9,
     "metadata": {},
     "output_type": "execute_result"
    }
   ],
   "source": [
    "# Drop the First Row Information\n",
    "facts_df = facts_df.drop(0)\n",
    "facts_df"
   ]
  },
  {
   "cell_type": "code",
   "execution_count": 10,
   "metadata": {},
   "outputs": [
    {
     "data": {
      "text/html": [
       "<div>\n",
       "<style scoped>\n",
       "    .dataframe tbody tr th:only-of-type {\n",
       "        vertical-align: middle;\n",
       "    }\n",
       "\n",
       "    .dataframe tbody tr th {\n",
       "        vertical-align: top;\n",
       "    }\n",
       "\n",
       "    .dataframe thead th {\n",
       "        text-align: right;\n",
       "    }\n",
       "</style>\n",
       "<table border=\"1\" class=\"dataframe\">\n",
       "  <thead>\n",
       "    <tr style=\"text-align: right;\">\n",
       "      <th></th>\n",
       "      <th>Values</th>\n",
       "    </tr>\n",
       "    <tr>\n",
       "      <th>Description</th>\n",
       "      <th></th>\n",
       "    </tr>\n",
       "  </thead>\n",
       "  <tbody>\n",
       "    <tr>\n",
       "      <th>Diameter:</th>\n",
       "      <td>6,779 km</td>\n",
       "    </tr>\n",
       "    <tr>\n",
       "      <th>Mass:</th>\n",
       "      <td>6.39 × 10^23 kg</td>\n",
       "    </tr>\n",
       "    <tr>\n",
       "      <th>Moons:</th>\n",
       "      <td>2</td>\n",
       "    </tr>\n",
       "    <tr>\n",
       "      <th>Distance from Sun:</th>\n",
       "      <td>227,943,824 km</td>\n",
       "    </tr>\n",
       "    <tr>\n",
       "      <th>Length of Year:</th>\n",
       "      <td>687 Earth days</td>\n",
       "    </tr>\n",
       "    <tr>\n",
       "      <th>Temperature:</th>\n",
       "      <td>-87 to -5 °C</td>\n",
       "    </tr>\n",
       "  </tbody>\n",
       "</table>\n",
       "</div>"
      ],
      "text/plain": [
       "                             Values\n",
       "Description                        \n",
       "Diameter:                  6,779 km\n",
       "Mass:               6.39 × 10^23 kg\n",
       "Moons:                            2\n",
       "Distance from Sun:   227,943,824 km\n",
       "Length of Year:      687 Earth days\n",
       "Temperature:           -87 to -5 °C"
      ]
     },
     "execution_count": 10,
     "metadata": {},
     "output_type": "execute_result"
    }
   ],
   "source": [
    "# Reset the Index for the DataFrame\n",
    "facts_df.set_index(\"Description\", inplace=True)\n",
    "facts_df"
   ]
  },
  {
   "cell_type": "code",
   "execution_count": 12,
   "metadata": {},
   "outputs": [
    {
     "name": "stdout",
     "output_type": "stream",
     "text": [
      "<table border=\"1\" class=\"dataframe\">\n",
      "  <thead>\n",
      "    <tr style=\"text-align: right;\">\n",
      "      <th></th>\n",
      "      <th>Values</th>\n",
      "    </tr>\n",
      "    <tr>\n",
      "      <th>Description</th>\n",
      "      <th></th>\n",
      "    </tr>\n",
      "  </thead>\n",
      "  <tbody>\n",
      "    <tr>\n",
      "      <th>Diameter:</th>\n",
      "      <td>6,779 km</td>\n",
      "    </tr>\n",
      "    <tr>\n",
      "      <th>Mass:</th>\n",
      "      <td>6.39 × 10^23 kg</td>\n",
      "    </tr>\n",
      "    <tr>\n",
      "      <th>Moons:</th>\n",
      "      <td>2</td>\n",
      "    </tr>\n",
      "    <tr>\n",
      "      <th>Distance from Sun:</th>\n",
      "      <td>227,943,824 km</td>\n",
      "    </tr>\n",
      "    <tr>\n",
      "      <th>Length of Year:</th>\n",
      "      <td>687 Earth days</td>\n",
      "    </tr>\n",
      "    <tr>\n",
      "      <th>Temperature:</th>\n",
      "      <td>-87 to -5 °C</td>\n",
      "    </tr>\n",
      "  </tbody>\n",
      "</table>\n"
     ]
    }
   ],
   "source": [
    "# Convert the DataFrame into a HTML Table String\n",
    "facts_html = facts_df.to_html()\n",
    "print(facts_html)"
   ]
  },
  {
   "cell_type": "markdown",
   "metadata": {},
   "source": [
    "MARS HEMISPHERES"
   ]
  },
  {
   "cell_type": "code",
   "execution_count": 25,
   "metadata": {},
   "outputs": [
    {
     "name": "stderr",
     "output_type": "stream",
     "text": [
      "\n",
      "\n",
      "====== WebDriver manager ======\n",
      "Current google-chrome version is 92.0.4515\n",
      "Get LATEST driver version for 92.0.4515\n",
      "Driver [C:\\Users\\User\\.wdm\\drivers\\chromedriver\\win32\\92.0.4515.107\\chromedriver.exe] found in cache\n"
     ]
    }
   ],
   "source": [
    "# Use Splinter to Navigate the Page\n",
    "executable_path = {'executable_path': ChromeDriverManager().install()}\n",
    "browser = Browser('chrome', **executable_path, headless=False)"
   ]
  },
  {
   "cell_type": "code",
   "execution_count": 26,
   "metadata": {},
   "outputs": [],
   "source": [
    "# Get the URL for the Image\n",
    "url = 'https://marshemispheres.com/'\n",
    "# # Use Browser to open the URL for the Image\n",
    "browser.visit(url)"
   ]
  },
  {
   "cell_type": "code",
   "execution_count": 27,
   "metadata": {},
   "outputs": [],
   "source": [
    "# Create HTML to Parse\n",
    "html = browser.html\n",
    "\n",
    "# Create BeautifulSoup Object\n",
    "soup = bs(html, 'html.parser')"
   ]
  },
  {
   "cell_type": "code",
   "execution_count": 29,
   "metadata": {
    "collapsed": true,
    "jupyter": {
     "outputs_hidden": true
    }
   },
   "outputs": [
    {
     "name": "stdout",
     "output_type": "stream",
     "text": [
      "[<div class=\"item\">\n",
      "<a class=\"itemLink product-item\" href=\"cerberus.html\"><img alt=\"Cerberus Hemisphere Enhanced thumbnail\" class=\"thumb\" src=\"images/39d3266553462198bd2fbc4d18fbed17_cerberus_enhanced.tif_thumb.png\"/></a>\n",
      "<div class=\"description\">\n",
      "<a class=\"itemLink product-item\" href=\"cerberus.html\">\n",
      "<h3>Cerberus Hemisphere Enhanced</h3>\n",
      "</a>\n",
      "<span class=\"subtitle\" style=\"float:left\">image/tiff 21 MB</span><span class=\"pubDate\" style=\"float:right\"></span><br/>\n",
      "<p>Mosaic of the Cerberus hemisphere of Mars projected into point perspective, a view similar to that which one would see from a spacecraft. This mosaic is composed of 104 Viking Orbiter images acquired…</p>\n",
      "</div>\n",
      "<!-- end description -->\n",
      "</div>, <div class=\"item\">\n",
      "<a class=\"itemLink product-item\" href=\"schiaparelli.html\"><img alt=\"Schiaparelli Hemisphere Enhanced thumbnail\" class=\"thumb\" src=\"images/08eac6e22c07fb1fe72223a79252de20_schiaparelli_enhanced.tif_thumb.png\"/></a>\n",
      "<div class=\"description\">\n",
      "<a class=\"itemLink product-item\" href=\"schiaparelli.html\">\n",
      "<h3>Schiaparelli Hemisphere Enhanced</h3>\n",
      "</a>\n",
      "<span class=\"subtitle\" style=\"float:left\">image/tiff 35 MB</span><span class=\"pubDate\" style=\"float:right\"></span><br/>\n",
      "<p>Mosaic of the Schiaparelli hemisphere of Mars projected into point perspective, a view similar to that which one would see from a spacecraft. The images were acquired in 1980 during early northern…</p>\n",
      "</div>\n",
      "<!-- end description -->\n",
      "</div>, <div class=\"item\">\n",
      "<a class=\"itemLink product-item\" href=\"syrtis.html\"><img alt=\"Syrtis Major Hemisphere Enhanced thumbnail\" class=\"thumb\" src=\"images/55a0a1e2796313fdeafb17c35925e8ac_syrtis_major_enhanced.tif_thumb.png\"/></a>\n",
      "<div class=\"description\">\n",
      "<a class=\"itemLink product-item\" href=\"syrtis.html\">\n",
      "<h3>Syrtis Major Hemisphere Enhanced</h3>\n",
      "</a>\n",
      "<span class=\"subtitle\" style=\"float:left\">image/tiff 25 MB</span><span class=\"pubDate\" style=\"float:right\"></span><br/>\n",
      "<p>Mosaic of the Syrtis Major hemisphere of Mars projected into point perspective, a view similar to that which one would see from a spacecraft. This mosaic is composed of about 100 red and violet…</p>\n",
      "</div>\n",
      "<!-- end description -->\n",
      "</div>, <div class=\"item\">\n",
      "<a class=\"itemLink product-item\" href=\"valles.html\"><img alt=\"Valles Marineris Hemisphere Enhanced thumbnail\" class=\"thumb\" src=\"images/4e59980c1c57f89c680c0e1ccabbeff1_valles_marineris_enhanced.tif_thumb.png\"/></a>\n",
      "<div class=\"description\">\n",
      "<a class=\"itemLink product-item\" href=\"valles.html\">\n",
      "<h3>Valles Marineris Hemisphere Enhanced</h3>\n",
      "</a>\n",
      "<span class=\"subtitle\" style=\"float:left\">image/tiff 27 MB</span><span class=\"pubDate\" style=\"float:right\"></span><br/>\n",
      "<p>Mosaic of the Valles Marineris hemisphere of Mars projected into point perspective, a view similar to that which one would see from a spacecraft. The distance is 2500 kilometers from the surface of…</p>\n",
      "</div>\n",
      "<!-- end description -->\n",
      "</div>]\n"
     ]
    }
   ],
   "source": [
    "# Retrieve the Images with Beautiful Soup\n",
    "data = soup.find_all(\"div\", class_=\"item\")\n",
    "print(data)"
   ]
  },
  {
   "cell_type": "code",
   "execution_count": 31,
   "metadata": {},
   "outputs": [
    {
     "data": {
      "text/plain": [
       "[{'title': 'Cerberus Hemisphere Enhanced',\n",
       "  'img_url': 'https://marshemispheres.com/images/f5e372a36edfa389625da6d0cc25d905_cerberus_enhanced.tif_full.jpg'},\n",
       " {'title': 'Schiaparelli Hemisphere Enhanced',\n",
       "  'img_url': 'https://marshemispheres.com/images/3778f7b43bbbc89d6e3cfabb3613ba93_schiaparelli_enhanced.tif_full.jpg'},\n",
       " {'title': 'Syrtis Major Hemisphere Enhanced',\n",
       "  'img_url': 'https://marshemispheres.com/images/555e6403a6ddd7ba16ddb0e471cadcf7_syrtis_major_enhanced.tif_full.jpg'},\n",
       " {'title': 'Valles Marineris Hemisphere Enhanced',\n",
       "  'img_url': 'https://marshemispheres.com/images/b3c7c6c9138f57b4756be9b9c43e3a48_valles_marineris_enhanced.tif_full.jpg'}]"
      ]
     },
     "execution_count": 31,
     "metadata": {},
     "output_type": "execute_result"
    }
   ],
   "source": [
    "# Navigate the page to obtain high res Images for each Mar's Hemispheres (Image & Title)\n",
    "data = soup.find_all(\"div\", class_=\"item\")\n",
    "\n",
    "hemisphere_img_urls = []\n",
    "\n",
    "# # Loop through the image data to find title & url info\n",
    "for d in data:\n",
    "    \n",
    "    title = d.find(\"h3\").text\n",
    "    \n",
    "    img_url = d.a[\"href\"]\n",
    "    \n",
    "    url = \"https://marshemispheres.com/\" + img_url\n",
    "    \n",
    "# Use requests to get Full Image URL\n",
    "    response = requests.get(url)\n",
    "    \n",
    "# Create Soup Object\n",
    "    soup = bs(response.text, \"html.parser\")\n",
    "    \n",
    "# Find Full Image URL\n",
    "    new_url = soup.find(\"img\", class_=\"wide-image\")[\"src\"]\n",
    "    \n",
    "# Create Full Image URL\n",
    "    full_url = \"https://marshemispheres.com/\" + new_url\n",
    "    \n",
    "# Create a Dictionary & Append to a List (One Dict for each hemishpere)\n",
    "    hemisphere_img_urls.append({\"title\": title, \"img_url\": full_url})\n",
    "    \n",
    "hemisphere_img_urls"
   ]
  },
  {
   "cell_type": "code",
   "execution_count": 32,
   "metadata": {},
   "outputs": [],
   "source": [
    "browser.quit()"
   ]
  },
  {
   "cell_type": "code",
   "execution_count": null,
   "metadata": {},
   "outputs": [],
   "source": []
  },
  {
   "cell_type": "code",
   "execution_count": null,
   "metadata": {},
   "outputs": [],
   "source": []
  }
 ],
 "metadata": {
  "kernelspec": {
   "display_name": "Python 3",
   "language": "python",
   "name": "python3"
  },
  "language_info": {
   "codemirror_mode": {
    "name": "ipython",
    "version": 3
   },
   "file_extension": ".py",
   "mimetype": "text/x-python",
   "name": "python",
   "nbconvert_exporter": "python",
   "pygments_lexer": "ipython3",
   "version": "3.8.5"
  }
 },
 "nbformat": 4,
 "nbformat_minor": 4
}
